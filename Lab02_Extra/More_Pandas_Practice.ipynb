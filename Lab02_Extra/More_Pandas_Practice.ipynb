{
 "cells": [
  {
   "cell_type": "markdown",
   "metadata": {
    "colab_type": "text",
    "id": "x57LDEgRkpwk"
   },
   "source": [
    "# Extra Practice\n",
    "As you've probably seen, Pandas is an incredibly versatile and convenient tool to store, display, and transform tabular data. However, there are some nuances and redundancies that you should be aware of. These practice questions will hopefully elucidate some of these obscurities, as well as make you feel more comfortable working with Pandas."
   ]
  },
  {
   "cell_type": "markdown",
   "metadata": {
    "colab_type": "text",
    "id": "VFptLlWsmAx5"
   },
   "source": [
    "## Creating Data Frames\n",
    "\n",
    "Let's take this time to review the different ways to create a Data Frame. If you get stuck, you can look at some awesome slides [here](https://docs.google.com/presentation/d/1hwjcENCEm7blFBAXKcLZMT3t4xRr-HMV6N42UR1nTxU/edit#slide=id.g4114e65f62_0_239), the DS100 textbook [here](https://www.textbook.ds100.org/ch/03/pandas_intro.html), or at your Lab02 for reference!"
   ]
  },
  {
   "cell_type": "code",
   "execution_count": null,
   "metadata": {},
   "outputs": [],
   "source": [
    "import pandas as pd\n",
    "import numpy as np"
   ]
  },
  {
   "cell_type": "markdown",
   "metadata": {
    "colab_type": "text",
    "id": "LOKcrCCNmGRk"
   },
   "source": [
    "### 1. df1\n",
    "\n",
    "Use a dictionary to Create a DataFrame object that looks like this:\n",
    "\n",
    "\n",
    "\n",
    "```\n",
    "\n",
    "```\n",
    "\n"
   ]
  },
  {
   "cell_type": "code",
   "execution_count": null,
   "metadata": {
    "colab": {
     "base_uri": "https://localhost:8080/",
     "height": 202
    },
    "colab_type": "code",
    "id": "3P9Jkcz8mAPq",
    "outputId": "28c8d585-43b4-4f6d-d744-ccf2e4b29d2d",
    "scrolled": true
   },
   "outputs": [],
   "source": [
    "df1 = ..."
   ]
  },
  {
   "cell_type": "markdown",
   "metadata": {
    "colab_type": "text",
    "id": "T2cacXMLKJ4c"
   },
   "source": [
    "What's the data type of the \"???\" column?"
   ]
  },
  {
   "cell_type": "markdown",
   "metadata": {
    "colab_type": "text",
    "id": "TJUAKbkRqNky"
   },
   "source": [
    "### 2. df2\n",
    "Use the ```data``` and ```columns``` arguments to create the same DataFrame as ```df1```."
   ]
  },
  {
   "cell_type": "code",
   "execution_count": null,
   "metadata": {
    "colab": {
     "base_uri": "https://localhost:8080/",
     "height": 202
    },
    "colab_type": "code",
    "id": "OQGyZvSJqAV7",
    "outputId": "6076c1f4-52b9-4195-8d5b-622ac496e796"
   },
   "outputs": [],
   "source": [
    "df2 = ..."
   ]
  },
  {
   "cell_type": "markdown",
   "metadata": {
    "colab_type": "text",
    "id": "wMkVkn_LqRx7"
   },
   "source": [
    "### 3. df3\n",
    "\n",
    "Set df3 to a **copy** of df1. Then, change the index of df3 to [42, 3, 9999, 7, 5]"
   ]
  },
  {
   "cell_type": "code",
   "execution_count": null,
   "metadata": {
    "colab": {
     "base_uri": "https://localhost:8080/",
     "height": 202
    },
    "colab_type": "code",
    "id": "pcvC_YIGoMXI",
    "outputId": "03880ae0-eb42-400c-fff8-8f6c38195270"
   },
   "outputs": [],
   "source": [
    "df3 = ..."
   ]
  },
  {
   "cell_type": "markdown",
   "metadata": {
    "colab_type": "text",
    "id": "2eDRQ8I3su86"
   },
   "source": [
    "Sanity check: Why do we use a copy?"
   ]
  },
  {
   "cell_type": "markdown",
   "metadata": {
    "colab_type": "text",
    "id": "M6IRshZvl-T3"
   },
   "source": [
    "## Indexing Practice\n",
    "\n",
    "You can review some awesome slides from DS100 Summer 2019 [here](https://docs.google.com/presentation/d/1hwjcENCEm7blFBAXKcLZMT3t4xRr-HMV6N42UR1nTxU/edit#slide=id.g4114e65f62_0_239).\n",
    "\n",
    "\n",
    "Let's now index on the DataFrames that you created!\n",
    "\n",
    "For the following questions, give the same data using the three indexing methods: [ ], loc[ ], and iloc[ ]. You can use the ```type()``` function to check the data type of your output."
   ]
  },
  {
   "cell_type": "markdown",
   "metadata": {
    "colab_type": "text",
    "id": "aevA9ytztgxp"
   },
   "source": [
    "### 1a. First three rows of df1 as a DataFrame"
   ]
  },
  {
   "cell_type": "code",
   "execution_count": null,
   "metadata": {
    "colab": {
     "base_uri": "https://localhost:8080/",
     "height": 140
    },
    "colab_type": "code",
    "id": "XQZM42LnkmeR",
    "outputId": "148b5907-c70f-4191-9edf-a7fb04526777"
   },
   "outputs": [],
   "source": [
    "# use []\n",
    "\n",
    "..."
   ]
  },
  {
   "cell_type": "code",
   "execution_count": null,
   "metadata": {
    "colab": {
     "base_uri": "https://localhost:8080/",
     "height": 140
    },
    "colab_type": "code",
    "id": "XK2I7hgswKal",
    "outputId": "54a333e3-9481-4e85-9a53-28daf979fd33"
   },
   "outputs": [],
   "source": [
    "# use loc\n",
    "\n",
    "..."
   ]
  },
  {
   "cell_type": "code",
   "execution_count": null,
   "metadata": {
    "colab": {
     "base_uri": "https://localhost:8080/",
     "height": 140
    },
    "colab_type": "code",
    "id": "skDaHxsTwKhI",
    "outputId": "8cdc8304-6e7d-4958-ae6a-936c506f74ab"
   },
   "outputs": [],
   "source": [
    "# use iloc\n",
    "\n",
    "..."
   ]
  },
  {
   "cell_type": "markdown",
   "metadata": {
    "colab_type": "text",
    "id": "99W_AaQWwuxD"
   },
   "source": [
    "### 1b. First three rows of df3 as a DataFrame"
   ]
  },
  {
   "cell_type": "code",
   "execution_count": null,
   "metadata": {
    "colab": {
     "base_uri": "https://localhost:8080/",
     "height": 140
    },
    "colab_type": "code",
    "id": "OE_XJcG4wa6V",
    "outputId": "45426cfa-5e33-4414-82fd-802d5ee73639"
   },
   "outputs": [],
   "source": [
    "# use []\n",
    "\n",
    "..."
   ]
  },
  {
   "cell_type": "code",
   "execution_count": null,
   "metadata": {
    "colab": {
     "base_uri": "https://localhost:8080/",
     "height": 140
    },
    "colab_type": "code",
    "id": "cMdTn2tWw7YY",
    "outputId": "8c5d0e9f-d28a-41c5-fbb9-5f3295ecfce3"
   },
   "outputs": [],
   "source": [
    "# use loc[]\n",
    "\n",
    "..."
   ]
  },
  {
   "cell_type": "code",
   "execution_count": null,
   "metadata": {
    "colab": {
     "base_uri": "https://localhost:8080/",
     "height": 140
    },
    "colab_type": "code",
    "id": "tQ_kNXE0w9-m",
    "outputId": "507d6142-3e00-430e-e5ec-5e643ea979fb"
   },
   "outputs": [],
   "source": [
    "# use iloc[]\n",
    "\n",
    "..."
   ]
  },
  {
   "cell_type": "markdown",
   "metadata": {
    "colab_type": "text",
    "id": "48Hp_Vq8xQ4S"
   },
   "source": [
    "### 2a. First column of df2 as a DataFrame"
   ]
  },
  {
   "cell_type": "code",
   "execution_count": null,
   "metadata": {
    "colab": {
     "base_uri": "https://localhost:8080/",
     "height": 202
    },
    "colab_type": "code",
    "id": "A7lVpkv7yJzF",
    "outputId": "589f68b0-b2cb-46dd-df78-6d015b8d5fbc"
   },
   "outputs": [],
   "source": [
    "# use []\n",
    "\n",
    "..."
   ]
  },
  {
   "cell_type": "code",
   "execution_count": null,
   "metadata": {
    "colab": {
     "base_uri": "https://localhost:8080/",
     "height": 202
    },
    "colab_type": "code",
    "id": "78LsgwpnyJ5J",
    "outputId": "8d67a587-2e2f-440b-de62-37dd938f6c27"
   },
   "outputs": [],
   "source": [
    "# use loc[]\n",
    "\n",
    "..."
   ]
  },
  {
   "cell_type": "code",
   "execution_count": null,
   "metadata": {
    "colab": {
     "base_uri": "https://localhost:8080/",
     "height": 202
    },
    "colab_type": "code",
    "id": "g0w2pLAwyJ_V",
    "outputId": "fedcfdf2-4411-4ec2-d624-26c650d9461e"
   },
   "outputs": [],
   "source": [
    "# use iloc[]\n",
    "\n",
    "..."
   ]
  },
  {
   "cell_type": "markdown",
   "metadata": {
    "colab_type": "text",
    "id": "bOTA_W7h0lRI"
   },
   "source": [
    "### 3a. The first row of df3 as a DataFrame"
   ]
  },
  {
   "cell_type": "code",
   "execution_count": null,
   "metadata": {
    "colab": {
     "base_uri": "https://localhost:8080/",
     "height": 79
    },
    "colab_type": "code",
    "id": "wjYaAniO0GR_",
    "outputId": "af412789-5c97-49a8-c696-b113ad9869b5"
   },
   "outputs": [],
   "source": [
    "# use []\n",
    "\n",
    "..."
   ]
  },
  {
   "cell_type": "code",
   "execution_count": null,
   "metadata": {
    "colab": {
     "base_uri": "https://localhost:8080/",
     "height": 79
    },
    "colab_type": "code",
    "id": "Bwn8DUy90vN7",
    "outputId": "348175b8-b013-49f5-d75f-4637b7a2098c"
   },
   "outputs": [],
   "source": [
    "# use loc[]\n",
    "\n",
    "..."
   ]
  },
  {
   "cell_type": "code",
   "execution_count": null,
   "metadata": {
    "colab": {
     "base_uri": "https://localhost:8080/",
     "height": 79
    },
    "colab_type": "code",
    "id": "LM3coLDe0vRL",
    "outputId": "862c6f11-4fdb-4eea-eabb-65d62d0b59b9"
   },
   "outputs": [],
   "source": [
    "# use iloc[]\n",
    "\n",
    "..."
   ]
  },
  {
   "cell_type": "markdown",
   "metadata": {},
   "source": [
    "### 4a. The last row of df1 as a Series"
   ]
  },
  {
   "cell_type": "code",
   "execution_count": null,
   "metadata": {},
   "outputs": [],
   "source": [
    "# use []\n",
    "\n",
    "..."
   ]
  },
  {
   "cell_type": "code",
   "execution_count": null,
   "metadata": {},
   "outputs": [],
   "source": [
    "# use loc[]\n",
    "\n",
    "..."
   ]
  },
  {
   "cell_type": "code",
   "execution_count": null,
   "metadata": {},
   "outputs": [],
   "source": [
    "# use iloc[]\n",
    "\n",
    "..."
   ]
  },
  {
   "cell_type": "markdown",
   "metadata": {},
   "source": [
    "### 4b. The last row of df1 as a DataFrame"
   ]
  },
  {
   "cell_type": "code",
   "execution_count": null,
   "metadata": {},
   "outputs": [],
   "source": [
    "# use []\n",
    "\n",
    "..."
   ]
  },
  {
   "cell_type": "code",
   "execution_count": null,
   "metadata": {},
   "outputs": [],
   "source": [
    "# use loc[]\n",
    "\n",
    "..."
   ]
  },
  {
   "cell_type": "code",
   "execution_count": null,
   "metadata": {},
   "outputs": [],
   "source": [
    "# use iloc[]\n",
    "\n",
    "..."
   ]
  },
  {
   "cell_type": "markdown",
   "metadata": {
    "colab_type": "text",
    "id": "mbR3U4gk27SL"
   },
   "source": [
    "### 5a. The second, fourth, and fifth row of the numbers column in df3 as a Series."
   ]
  },
  {
   "cell_type": "code",
   "execution_count": null,
   "metadata": {
    "colab": {
     "base_uri": "https://localhost:8080/",
     "height": 86
    },
    "colab_type": "code",
    "id": "PG4GxTur3DyI",
    "outputId": "c1d971d6-b2c4-4200-b26d-b95d5c0af2f4"
   },
   "outputs": [],
   "source": [
    "# use []\n",
    "\n",
    "..."
   ]
  },
  {
   "cell_type": "code",
   "execution_count": null,
   "metadata": {
    "colab": {
     "base_uri": "https://localhost:8080/",
     "height": 86
    },
    "colab_type": "code",
    "id": "dtCR9sXj3GLo",
    "outputId": "5a2ec7c5-4304-4fb6-c89a-aa4565e2c68b"
   },
   "outputs": [],
   "source": [
    "# use loc[]\n",
    "\n",
    "..."
   ]
  },
  {
   "cell_type": "code",
   "execution_count": null,
   "metadata": {
    "colab": {
     "base_uri": "https://localhost:8080/",
     "height": 86
    },
    "colab_type": "code",
    "id": "z-MWPv9E3GQb",
    "outputId": "56dc0462-53b2-4351-b101-b37edbcadd47"
   },
   "outputs": [],
   "source": [
    "# use iloc[]\n",
    "\n",
    "..."
   ]
  },
  {
   "cell_type": "markdown",
   "metadata": {
    "colab_type": "text",
    "id": "Lvvmg-5f7mXd"
   },
   "source": [
    "### 5b. The second, fourth, and fifth row of the numbers column in df3 as a DataFrame."
   ]
  },
  {
   "cell_type": "code",
   "execution_count": null,
   "metadata": {
    "colab": {
     "base_uri": "https://localhost:8080/",
     "height": 140
    },
    "colab_type": "code",
    "id": "Jt9BCBIX7j73",
    "outputId": "dd5de05b-5167-450a-ef72-0dc8f3a6d680"
   },
   "outputs": [],
   "source": [
    "# use []\n",
    "\n",
    "..."
   ]
  },
  {
   "cell_type": "code",
   "execution_count": null,
   "metadata": {
    "colab": {
     "base_uri": "https://localhost:8080/",
     "height": 140
    },
    "colab_type": "code",
    "id": "FCJHbAIB8q4a",
    "outputId": "69c95aee-ff3b-411a-87c8-84dc5b36b3fe"
   },
   "outputs": [],
   "source": [
    "# use loc[]\n",
    "\n",
    "..."
   ]
  },
  {
   "cell_type": "code",
   "execution_count": null,
   "metadata": {
    "colab": {
     "base_uri": "https://localhost:8080/",
     "height": 140
    },
    "colab_type": "code",
    "id": "1ghIoFEj8spE",
    "outputId": "3b31a679-0168-4d68-936a-abbd2bc7c61c"
   },
   "outputs": [],
   "source": [
    "# use iloc[]\n",
    "\n",
    "..."
   ]
  },
  {
   "cell_type": "markdown",
   "metadata": {
    "colab_type": "text",
    "id": "s7O_zTeTXBRM"
   },
   "source": [
    "## Groupby Practice\n",
    "\n",
    "You can review .groupby() [here](https://www.textbook.ds100.org/ch/03/pandas_grouping_pivoting.html)\n",
    "\n",
    "Great visual representation of how grouping works [here](https://docs.google.com/presentation/d/1PuaVQkMaytd6fK-jb_FSnYn54EgWIhLThSsHFbNq6Rs/edit#slide=id.g4114e65f62_0_517)! (slides 12, 13). [Source](http://www.ds100.org/su19/syllabus)"
   ]
  },
  {
   "cell_type": "markdown",
   "metadata": {},
   "source": [
    "#### Let's use a wine dataset, because wine not (ha).\n"
   ]
  },
  {
   "cell_type": "code",
   "execution_count": null,
   "metadata": {
    "colab": {},
    "colab_type": "code",
    "id": "NFiulG88XDSP"
   },
   "outputs": [],
   "source": [
    "### Loading in data\n",
    "\n",
    "import urllib.request\n",
    "import os.path\n",
    "import zipfile\n",
    "\n",
    "import pandas as pd\n",
    "import numpy as np\n",
    "\n",
    "# read data\n",
    "local_filename = \"wine_data.csv\"\n",
    "wines = pd.read_csv(local_filename, header = 'infer')\n",
    "\n",
    "# change data\n",
    "ratings = pd.read_csv(\"my_ratings.csv\", header = None)\n",
    "wines = wines.merge(ratings, left_on = wines.index, right_on = ratings.index).drop(columns=['key_0'])\n",
    "wines = wines.rename({0: 'Rating'}, axis = 'columns')\n",
    "wines['Color intensity'] = wines['Color intensity'].astype('int64')\n",
    "wines.head(7)"
   ]
  },
  {
   "cell_type": "markdown",
   "metadata": {},
   "source": [
    "### Data description\n",
    "1. Title of Database: Wine recognition data\n",
    "       Updated Sept 21, 1998 by C.Blake : Added attribute information\n",
    "\n",
    "2. Sources:\n",
    "   (a) Forina, M. et al, PARVUS - An Extendible Package for Data\n",
    "       Exploration, Classification and Correlation. Institute of Pharmaceutical\n",
    "       and Food Analysis and Technologies, Via Brigata Salerno, \n",
    "       16147 Genoa, Italy.\n",
    "\n",
    "   (b) Stefan Aeberhard, email: stefan@coral.cs.jcu.edu.au\n",
    "   (c) July 1991\n",
    "\n",
    "4. Relevant Information:\n",
    "\n",
    "   -- These data are the results of a chemical analysis of\n",
    "      wines grown in the same region in Italy but derived from three\n",
    "      different cultivars.\n",
    "      The analysis determined the quantities of 13 constituents\n",
    "      found in each of the three types of wines. \n",
    "\n",
    "   -- I think that the initial data set had around 30 variables, but \n",
    "      for some reason I only have the 13 dimensional version. \n",
    "      I had a list of what the 30 or so variables were, but a.) \n",
    "      I lost it, and b.), I would not know which 13 variables\n",
    "      are included in the set.\n",
    "\n",
    "8. Missing Attribute Values: None\n",
    "\n",
    "9. Class Distribution: number of instances per class\n",
    "\n",
    "    * class 1 59\n",
    "\t* class 2 71\n",
    "\t* class 3 48\n"
   ]
  },
  {
   "cell_type": "markdown",
   "metadata": {
    "colab": {},
    "colab_type": "code",
    "id": "RgWereXVX7Nv"
   },
   "source": [
    "### Summary statistics of wines"
   ]
  },
  {
   "cell_type": "code",
   "execution_count": null,
   "metadata": {},
   "outputs": [],
   "source": [
    "wines.describe()"
   ]
  },
  {
   "cell_type": "code",
   "execution_count": null,
   "metadata": {},
   "outputs": [],
   "source": [
    "# Number of unique values for each column\n",
    "for c in wines.columns:\n",
    "    print(c, len(wines[c].unique())) "
   ]
  },
  {
   "cell_type": "markdown",
   "metadata": {},
   "source": [
    "### 1. For each class, find the max alcohol content"
   ]
  },
  {
   "cell_type": "code",
   "execution_count": null,
   "metadata": {},
   "outputs": [],
   "source": [
    "# Your answer here\n",
    "...\n"
   ]
  },
  {
   "cell_type": "markdown",
   "metadata": {},
   "source": [
    "### 2. For each class, find the count of alcoholic beverages greater than 13.5%."
   ]
  },
  {
   "cell_type": "code",
   "execution_count": null,
   "metadata": {},
   "outputs": [],
   "source": [
    "# Your answer here\n",
    "...\n"
   ]
  },
  {
   "cell_type": "markdown",
   "metadata": {},
   "source": [
    "### 3. For each class, find the average rating \n"
   ]
  },
  {
   "cell_type": "code",
   "execution_count": null,
   "metadata": {},
   "outputs": [],
   "source": [
    "# Your answer here\n",
    "...\n"
   ]
  },
  {
   "cell_type": "markdown",
   "metadata": {},
   "source": [
    "(From the above 3 questions, what can you infer about the Rating column?)"
   ]
  },
  {
   "cell_type": "markdown",
   "metadata": {},
   "source": [
    "### 4. For each rating, find the count for each class"
   ]
  },
  {
   "cell_type": "code",
   "execution_count": null,
   "metadata": {},
   "outputs": [],
   "source": [
    "# Your answer here\n",
    "...\n"
   ]
  },
  {
   "cell_type": "markdown",
   "metadata": {},
   "source": [
    "### 5. For each level of color intensity that is equal to 4 or 6 or 8, find the average Flavanoids"
   ]
  },
  {
   "cell_type": "code",
   "execution_count": null,
   "metadata": {},
   "outputs": [],
   "source": [
    "# Your answer here\n",
    "...\n"
   ]
  },
  {
   "cell_type": "markdown",
   "metadata": {},
   "source": [
    "### 6. For each rating, find the first row"
   ]
  },
  {
   "cell_type": "code",
   "execution_count": null,
   "metadata": {},
   "outputs": [],
   "source": [
    "# Your answer here\n",
    "...\n"
   ]
  },
  {
   "cell_type": "markdown",
   "metadata": {},
   "source": [
    "### 7. For each rating, find the third row\n",
    "\n",
    "Hint: Up until now, we've been using built-in aggregation methods, like .mean() and .count(). If we have a custom aggregation function, we can use .agg(), which takes in a function. \n",
    "\n",
    "Hint: Remember that .mean(), .count(), etc. is applied on each group."
   ]
  },
  {
   "cell_type": "code",
   "execution_count": null,
   "metadata": {},
   "outputs": [],
   "source": [
    "# Your answer here\n",
    "...\n"
   ]
  },
  {
   "cell_type": "code",
   "execution_count": null,
   "metadata": {},
   "outputs": [],
   "source": [
    "# Your answer here\n",
    "...\n"
   ]
  },
  {
   "cell_type": "markdown",
   "metadata": {},
   "source": [
    "### 8. For each alcohol level rounded DOWN to the nearest integer, find the average rating only including instances with a rating between 3 and 8 (inclusive), and multiply it by 10.\n",
    "\n",
    "Hint: look up Series.astype()"
   ]
  },
  {
   "cell_type": "code",
   "execution_count": null,
   "metadata": {},
   "outputs": [],
   "source": [
    "# Your answer here\n",
    "\n"
   ]
  },
  {
   "cell_type": "markdown",
   "metadata": {},
   "source": [
    "# Congrats! You made it to the end :)"
   ]
  }
 ],
 "metadata": {
  "colab": {
   "name": "More Indexing Practice SOL.ipynb",
   "provenance": [],
   "version": "0.3.2"
  },
  "kernelspec": {
   "display_name": "Python 3",
   "language": "python",
   "name": "python3"
  },
  "language_info": {
   "codemirror_mode": {
    "name": "ipython",
    "version": 3
   },
   "file_extension": ".py",
   "mimetype": "text/x-python",
   "name": "python",
   "nbconvert_exporter": "python",
   "pygments_lexer": "ipython3",
   "version": "3.6.8"
  }
 },
 "nbformat": 4,
 "nbformat_minor": 1
}
