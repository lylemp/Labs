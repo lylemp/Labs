{
 "cells": [
  {
   "cell_type": "markdown",
   "metadata": {},
   "source": [
    "# Lab03 Extra Practice\n",
    "\n",
    "In lab03, the joins turned out pretty... pretty. But depending on the type of join you're doing, things may not always be so. It's very helpful to be well-acquainted with all the types of joins.\n",
    "\n",
    "As you learn about each join, consider referencing this good visualization: https://www.google.com/url?sa=i&source=images&cd=&ved=2ahUKEwi8yaeBu_zlAhUzPn0KHTNuBXYQjRx6BAgBEAQ&url=https%3A%2F%2Ftheartofpostgresql.com%2Fblog%2F2019-09-sql-joins%2F&psig=AOvVaw0OVZtAz862qTM20VnJm4fw&ust=1574465446601540"
   ]
  },
  {
   "cell_type": "markdown",
   "metadata": {},
   "source": [
    "\n",
    "## Creating some data"
   ]
  },
  {
   "cell_type": "code",
   "execution_count": null,
   "metadata": {},
   "outputs": [],
   "source": [
    "import pandas as po\n",
    "import sqlite3\n",
    "\n",
    "t1 = po.DataFrame({\n",
    "    'Letter': ['a', 'b', 'c', 'd'],\n",
    "    'Number': [42, 12, 6, 3]\n",
    "})\n",
    "\n",
    "t2 = po.DataFrame({\n",
    "    'Letter': ['b', 'b', 'c', 'd', 'e', 'e'],\n",
    "    'Special': ['!','#', '?', '$', '@', '&']\n",
    "})\n",
    "\n",
    "display(t1, t2)"
   ]
  },
  {
   "cell_type": "markdown",
   "metadata": {},
   "source": [
    "For convenience, the following data is put into a SQL table by using Pandas' to_sql() function."
   ]
  },
  {
   "cell_type": "code",
   "execution_count": null,
   "metadata": {},
   "outputs": [],
   "source": [
    "c = sqlite3.connect('example.db')\n",
    "\n",
    "# Create empty table - t1\n",
    "c.execute('''DROP TABLE IF EXISTS t1''')\n",
    "c.execute('''CREATE TABLE t1\n",
    "    ([Letter] text, [Number] integer)''')\n",
    "          \n",
    "# Create empty table - t2\n",
    "c.execute('''DROP TABLE IF EXISTS t2''')\n",
    "c.execute('''\n",
    "CREATE TABLE t2\n",
    "    ([Letter] text, [Special] text)''')\n",
    "\n",
    "# Insert the values from the DataFrame into the SQL tables 't1' and 't2' \n",
    "t1.to_sql('t1', c, if_exists='append', index = False)\n",
    "t2.to_sql('t2', c, if_exists='append', index = False)\n",
    "\n",
    "# Check to make sure the insertion was successful\n",
    "cur = c.cursor()\n",
    "cur.execute('''\n",
    "SELECT * FROM t1\n",
    "''')\n",
    "rows1 = cur.fetchall()\n",
    "rows1\n",
    "\n",
    "cur.execute('''\n",
    "SELECT * FROM t2\n",
    "''')\n",
    "rows2 = cur.fetchall()\n",
    "\n",
    "display(po.DataFrame(rows1, columns = ['Letter', 'Number']), \n",
    "        po.DataFrame(rows2, columns = ['Letter', 'Special'])\n",
    "       )"
   ]
  },
  {
   "cell_type": "markdown",
   "metadata": {},
   "source": [
    "### 1. Duplicate the same tables above only using SQL\n",
    "Ok, your turn. Create tables called \"letters_numbers\" and \"letters_specials\", and fill it with values exactly as above."
   ]
  },
  {
   "cell_type": "markdown",
   "metadata": {},
   "source": [
    "#### a. Create your tables here"
   ]
  },
  {
   "cell_type": "code",
   "execution_count": null,
   "metadata": {},
   "outputs": [],
   "source": [
    "c.execute(''' [YOUR SQL GOES HERE] ''')\n",
    "\n",
    "c.execute(''' [YOUR SQL GOES HERE] ''')"
   ]
  },
  {
   "cell_type": "markdown",
   "metadata": {},
   "source": [
    "#### b. Fill your tables here"
   ]
  },
  {
   "cell_type": "code",
   "execution_count": null,
   "metadata": {},
   "outputs": [],
   "source": [
    "c.execute(''' [YOUR SQL GOES HERE] ''')\n",
    "\n",
    "c.execute(''' [YOUR SQL GOES HERE] ''')"
   ]
  },
  {
   "cell_type": "markdown",
   "metadata": {},
   "source": [
    "#### c. Print out your tables here"
   ]
  },
  {
   "cell_type": "code",
   "execution_count": null,
   "metadata": {},
   "outputs": [],
   "source": [
    "cur.execute(''' [YOUR SQL GOES HERE] ''')\n",
    "letters_numbers = cur.fetchall()\n",
    "\n",
    "cur.execute(''' [YOUR SQL GOES HERE] ''')\n",
    "letters_special = cur.fetchall()\n",
    "\n",
    "display(rows1, rows2)"
   ]
  },
  {
   "cell_type": "markdown",
   "metadata": {},
   "source": [
    "#  "
   ]
  },
  {
   "cell_type": "markdown",
   "metadata": {},
   "source": [
    "## Joins"
   ]
  },
  {
   "cell_type": "markdown",
   "metadata": {},
   "source": [
    "### 1. Write the SQL equivalent of the following Pandas merges\n",
    "All you have to worry about is your SQL. For each type of join, we've provided the Pandas merge() equivalent for your reference."
   ]
  },
  {
   "cell_type": "markdown",
   "metadata": {},
   "source": [
    "### a) (FULL) OUTER\n",
    "\n",
    "\"If you're merging ON the Letter column, you will keep all rows from the left table, and all rows from the right table.\"\n",
    "\n",
    "**Note: Full outer joins are currently not supported by SQLite3. You're going to have to be a little creative with this one.** \n",
    "\n",
    "*Hint: you will need to use the UNION keyword.*"
   ]
  },
  {
   "cell_type": "code",
   "execution_count": null,
   "metadata": {},
   "outputs": [],
   "source": [
    "pd.merge(left = t1, right = t2, on = 'Letter', how = 'outer')"
   ]
  },
  {
   "cell_type": "markdown",
   "metadata": {},
   "source": [
    "**(i) Take note of any NaNs. Explain how it got there.**"
   ]
  },
  {
   "cell_type": "markdown",
   "metadata": {},
   "source": [
    "We see some NaNs begin to pop up. This is due to the fact that we're joining ON the 'Letter' column: We have an 'a' in Table t1, but we don't have an 'a' in t2. Similarly, we have an 'e' in Table t2, but we don't have an 'e' in Table t1."
   ]
  },
  {
   "cell_type": "code",
   "execution_count": null,
   "metadata": {},
   "outputs": [],
   "source": [
    "#pd.merge(left = t2, right = t1, on = 'Letter', how = 'outer')"
   ]
  },
  {
   "cell_type": "markdown",
   "metadata": {},
   "source": [
    "#### (ii) Replicate the results of the merge above using SQL"
   ]
  },
  {
   "cell_type": "code",
   "execution_count": null,
   "metadata": {},
   "outputs": [],
   "source": [
    "### YOUR ANSWER GOES HERE ###\n",
    "\n",
    "ans = c.execute(''' [YOUR SQL GOES HERE] ''').fetchall()\n",
    "\n",
    "# Output\n",
    "po.DataFrame(ans, columns = [\"Letter\", \"Number\", \"Special\"])"
   ]
  },
  {
   "cell_type": "markdown",
   "metadata": {},
   "source": [
    "#  "
   ]
  },
  {
   "cell_type": "markdown",
   "metadata": {},
   "source": [
    "\n",
    "\n",
    "### b. (LEFT) OUTER\n",
    "\"If you're merging ON a column 'c', every row will be kept from the left table, and any rows in the right table matching in 'c' will be included, too.\""
   ]
  },
  {
   "cell_type": "code",
   "execution_count": null,
   "metadata": {},
   "outputs": [],
   "source": [
    "pd.merge(left = t1, right = t2, on = 'Letter', how = 'left')"
   ]
  },
  {
   "cell_type": "markdown",
   "metadata": {},
   "source": [
    "#### (i) Take note of any NaNs. Explain how it got there."
   ]
  },
  {
   "cell_type": "markdown",
   "metadata": {},
   "source": [
    "*Your answer here*"
   ]
  },
  {
   "cell_type": "code",
   "execution_count": null,
   "metadata": {},
   "outputs": [],
   "source": [
    "#pd.merge(left = t2, right = t1, on = 'Letter', how = 'left')"
   ]
  },
  {
   "cell_type": "markdown",
   "metadata": {},
   "source": [
    "#### (ii) Replicate the results of the merge above using SQL"
   ]
  },
  {
   "cell_type": "code",
   "execution_count": null,
   "metadata": {},
   "outputs": [],
   "source": [
    "### YOUR ANSWER GOES HERE ###\n",
    "\n",
    "ans = c.execute(''' [YOUR SQL GOES HERE] ''').fetchall()\n",
    "\n",
    "# Output\n",
    "po.DataFrame(ans, columns = [\"Letter\", \"Number\", \"Special\"])"
   ]
  },
  {
   "cell_type": "markdown",
   "metadata": {},
   "source": [
    "#  "
   ]
  },
  {
   "cell_type": "markdown",
   "metadata": {},
   "source": [
    "### c. (RIGHT) OUTER \n",
    "\"If you're merging ON a column 'c', every row will be kept from the right table, and any rows in the left table that match values in 'c' will be included, too.\"\n",
    "\n",
    "**Note: There are no RIGHT joins in SQLite3.** "
   ]
  },
  {
   "cell_type": "code",
   "execution_count": null,
   "metadata": {},
   "outputs": [],
   "source": [
    "pd.merge(left = t1, right = t2, on = 'Letter', how = 'right')"
   ]
  },
  {
   "cell_type": "markdown",
   "metadata": {},
   "source": [
    "#### (i) Take note of any NaNs. Explain how it got there."
   ]
  },
  {
   "cell_type": "markdown",
   "metadata": {},
   "source": [
    "*Your answer here*"
   ]
  },
  {
   "cell_type": "code",
   "execution_count": null,
   "metadata": {},
   "outputs": [],
   "source": [
    "#pd.merge(left = t2, right = t1, on = 'Letter', how = 'right')"
   ]
  },
  {
   "cell_type": "markdown",
   "metadata": {},
   "source": [
    "#### (ii) Replicate the results of the merge above using SQL"
   ]
  },
  {
   "cell_type": "code",
   "execution_count": null,
   "metadata": {},
   "outputs": [],
   "source": [
    "### YOUR ANSWER GOES HERE ###\n",
    "\n",
    "ans = c.execute(''' [YOUR SQL GOES HERE] ''').fetchall()\n",
    "\n",
    "# Output\n",
    "po.DataFrame(ans, columns = [\"Letter\", \"Number\", \"Special\"])"
   ]
  },
  {
   "cell_type": "markdown",
   "metadata": {},
   "source": [
    "#  "
   ]
  },
  {
   "cell_type": "markdown",
   "metadata": {},
   "source": [
    "### d. INNER\n",
    "\"If you're merging ON a column 'c', only rows that match values in column 'c' will be kept.\""
   ]
  },
  {
   "cell_type": "code",
   "execution_count": null,
   "metadata": {},
   "outputs": [],
   "source": [
    "pd.merge(left = t1, right = t2, on = 'Letter', how = 'inner')"
   ]
  },
  {
   "cell_type": "markdown",
   "metadata": {},
   "source": [
    "#### (i) Take note of any NaNs. Explain why there are none."
   ]
  },
  {
   "cell_type": "markdown",
   "metadata": {},
   "source": [
    "*Your answer here*"
   ]
  },
  {
   "cell_type": "markdown",
   "metadata": {},
   "source": [
    "#### (ii) Take note of any missing rows. Explain how they've disappeared."
   ]
  },
  {
   "cell_type": "markdown",
   "metadata": {},
   "source": [
    "*Your answer here*"
   ]
  },
  {
   "cell_type": "code",
   "execution_count": null,
   "metadata": {},
   "outputs": [],
   "source": [
    "#pd.merge(left = t2, right = t1, on = 'Letter', how = 'inner')"
   ]
  },
  {
   "cell_type": "markdown",
   "metadata": {},
   "source": [
    "#### (iii) Replicate the results of the merge above using SQL"
   ]
  },
  {
   "cell_type": "code",
   "execution_count": null,
   "metadata": {},
   "outputs": [],
   "source": [
    "### YOUR ANSWER GOES HERE ###\n",
    "\n",
    "ans = c.execute(''' [YOUR SQL GOES HERE] ''').fetchall()\n",
    "\n",
    "# Output\n",
    "po.DataFrame(ans, columns = [\"Letter\", \"Number\", \"Special\"])"
   ]
  },
  {
   "cell_type": "markdown",
   "metadata": {},
   "source": [
    "#### (Small detail: \"Left inner\" and \"right inner\" function the same. Therefore, the (LEFT) or (RIGHT) is omitted in front of INNER joins.)"
   ]
  },
  {
   "cell_type": "markdown",
   "metadata": {},
   "source": [
    "#### (Small detail: If a value in 'c' has duplicates in either table, CROSS JOIN will take all unique combinations.)\n",
    "\n",
    "* Example: merging ON 'Letter', t1 only has one row with a 'b' (b, 12), but t2 has two rows with a 'b' (b, !) (b, #) \n",
    "* * So, all the unique combinations would be (b, 12, !), (b, 12, #)."
   ]
  },
  {
   "cell_type": "markdown",
   "metadata": {},
   "source": [
    "#  "
   ]
  },
  {
   "cell_type": "markdown",
   "metadata": {},
   "source": [
    "## A Concrete Example \n",
    "As mentioned before, you are probably going to lose some information when doing joins (unless you're doing a full outer join, in which case you're probably going to have a very messy dataset).\n",
    "\n",
    "In a sense, this is a good thing, as it a sort of \"automatic filtering.\" Sometimes, it even makes further data manipulation (like grouping or indexing) easier!"
   ]
  },
  {
   "cell_type": "markdown",
   "metadata": {},
   "source": [
    "\n",
    "Let's say we have a school of 5 students, Abigail, Ashwin, Kevin, Kevin, and Zach. Each have their own unique student ID.\n",
    "\n",
    "At the end of the year, they all take a final exam. You're allowed as many repeats as you want, and you're allowed to skip it, too (you'd probably flunk out, but you can skip it if you really want)."
   ]
  },
  {
   "cell_type": "code",
   "execution_count": null,
   "metadata": {},
   "outputs": [],
   "source": [
    "### Make some data\n",
    "\n",
    "\n",
    "students = pd.DataFrame({\n",
    "    'Name': ['Abigail', 'Ashwin', 'Kevin', 'Kevin', 'Zach'],\n",
    "    'SID': ['10000', '10001', '10002', '10003', '10004'],\n",
    "    'Year': [1, 1, 2, 4, 3]   \n",
    "})\n",
    "\n",
    "\n",
    "final_grades = pd.DataFrame({\n",
    "    'SID': ['10000', '10000', '10000', '10001', '10003', '10003', '10004'],\n",
    "    'Grades': ['B', 'C-', 'A-', 'B+', 'F', 'D+', 'A+'] \n",
    "    #Yes, some students took it twice, and some students didn't take it at all\n",
    "})\n",
    "\n",
    "display(students, final_grades)"
   ]
  },
  {
   "cell_type": "code",
   "execution_count": null,
   "metadata": {},
   "outputs": [],
   "source": [
    "# Python DataFrame --> SQL Table\n",
    "students.to_sql('students', c, if_exists='append', index = False)\n",
    "final_grades.to_sql('final_grades', c, if_exists='append', index = False)\n",
    "\n",
    "# Check to make sure the insertion was successful\n",
    "\n",
    "cur = c.cursor()\n",
    "cur.execute('''\n",
    "SELECT * FROM students\n",
    "''')\n",
    "rows1 = cur.fetchall()\n",
    "rows1\n",
    "\n",
    "cur.execute('''\n",
    "SELECT * FROM final_grades\n",
    "''')\n",
    "rows2 = cur.fetchall()\n",
    "display(rows1, rows2)"
   ]
  },
  {
   "cell_type": "markdown",
   "metadata": {},
   "source": [
    "### 0. Create a SQL Table for each of the DataFrames above. Call them 'students' and 'final_grades', respectively."
   ]
  },
  {
   "cell_type": "code",
   "execution_count": null,
   "metadata": {},
   "outputs": [],
   "source": [
    "c = sqlite3.connect('school.db')"
   ]
  },
  {
   "cell_type": "code",
   "execution_count": null,
   "metadata": {},
   "outputs": [],
   "source": [
    "c.execute('''DROP TABLE IF EXISTS students''')\n",
    "c.execute(''' [YOUR SQL GOES HERE] ''')\n",
    "\n",
    "c.execute('''DROP TABLE IF EXISTS final_grades''')\n",
    "c.execute(''' [YOUR SQL GOES HERE] ''')"
   ]
  },
  {
   "cell_type": "markdown",
   "metadata": {},
   "source": [
    "### 1. Return a table of students (with their name and year) with their corresponding grades on the exam"
   ]
  },
  {
   "cell_type": "code",
   "execution_count": null,
   "metadata": {},
   "outputs": [],
   "source": [
    "merged_table = pd.merge(left = students, right = final_grades, on = 'SID', how = 'inner')\n",
    "merged_table"
   ]
  },
  {
   "cell_type": "code",
   "execution_count": null,
   "metadata": {},
   "outputs": [],
   "source": [
    "c.execute(''' [YOUR SQL GOES HERE] ''')"
   ]
  },
  {
   "cell_type": "markdown",
   "metadata": {},
   "source": [
    "### 2. Take your merged table and look at the number of exams taken for each Year."
   ]
  },
  {
   "cell_type": "code",
   "execution_count": null,
   "metadata": {},
   "outputs": [],
   "source": [
    "merged_table.groupby('Year').count()['Name']"
   ]
  },
  {
   "cell_type": "code",
   "execution_count": null,
   "metadata": {},
   "outputs": [],
   "source": [
    "c.execute(''' [YOUR SQL GOES HERE] ''')"
   ]
  },
  {
   "cell_type": "markdown",
   "metadata": {},
   "source": [
    "Conclusion: First-years are tryhards and second-years are degenerates."
   ]
  },
  {
   "cell_type": "markdown",
   "metadata": {},
   "source": [
    "# Congratulations! You reached the end :)"
   ]
  }
 ],
 "metadata": {
  "kernelspec": {
   "display_name": "Python 3",
   "language": "python",
   "name": "python3"
  },
  "language_info": {
   "codemirror_mode": {
    "name": "ipython",
    "version": 3
   },
   "file_extension": ".py",
   "mimetype": "text/x-python",
   "name": "python",
   "nbconvert_exporter": "python",
   "pygments_lexer": "ipython3",
   "version": "3.6.8"
  }
 },
 "nbformat": 4,
 "nbformat_minor": 2
}
